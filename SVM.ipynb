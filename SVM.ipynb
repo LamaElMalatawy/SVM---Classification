{
  "nbformat": 4,
  "nbformat_minor": 0,
  "metadata": {
    "colab": {
      "name": " SVM.ipynb",
      "provenance": [],
      "collapsed_sections": []
    },
    "kernelspec": {
      "name": "python3",
      "display_name": "Python 3"
    },
    "language_info": {
      "name": "python"
    }
  },
  "cells": [
    {
      "cell_type": "markdown",
      "source": [
        "**Imports:**"
      ],
      "metadata": {
        "id": "kXZpx4dh9oFk"
      }
    },
    {
      "cell_type": "code",
      "execution_count": null,
      "metadata": {
        "id": "_IXIrxftTDKb"
      },
      "outputs": [],
      "source": [
        "import numpy as np\n",
        "import pandas as pd\n",
        "import seaborn as sns\n",
        "from sklearn import metrics\n",
        "from sklearn import svm\n",
        "from sklearn.preprocessing import MinMaxScaler\n",
        "from sklearn.model_selection import train_test_split\n",
        "from sklearn.metrics import confusion_matrix"
      ]
    },
    {
      "cell_type": "markdown",
      "source": [
        "**Reading data and dropping irrelevent columns**"
      ],
      "metadata": {
        "id": "2JKGZYbaTckY"
      }
    },
    {
      "cell_type": "code",
      "source": [
        "data = pd.read_csv('UniversalBank.csv')\n",
        "data.drop('ID', axis = 'columns',inplace = True)\n",
        "data.drop('ZIP Code', axis = 'columns',inplace = True)"
      ],
      "metadata": {
        "id": "cZwW8fIoQ-lO"
      },
      "execution_count": null,
      "outputs": []
    },
    {
      "cell_type": "markdown",
      "source": [
        "**Splitting data into train and test datasets**"
      ],
      "metadata": {
        "id": "kU0oqSFOqeBl"
      }
    },
    {
      "cell_type": "code",
      "source": [
        "X = data.drop(['Personal Loan'],axis=1)\n",
        "Y = data['Personal Loan']\n",
        "X_train, X_test, Y_train, Y_test = train_test_split(X, Y, test_size = 0.2,shuffle=True,random_state=10)"
      ],
      "metadata": {
        "id": "Bh5OapgbvBei"
      },
      "execution_count": null,
      "outputs": []
    },
    {
      "cell_type": "markdown",
      "source": [
        "**Scaling data using MinMaxScalar**"
      ],
      "metadata": {
        "id": "DonHZG-R0Oe8"
      }
    },
    {
      "cell_type": "code",
      "source": [
        "scaler = MinMaxScaler()\n",
        "\n",
        "X_train = pd.DataFrame(scaler.fit_transform(X_train), columns= X_train.columns)\n",
        "X_test = pd.DataFrame(scaler.transform(X_test), columns=X_test.columns)"
      ],
      "metadata": {
        "id": "uKXPLRQS0aW-"
      },
      "execution_count": null,
      "outputs": []
    },
    {
      "cell_type": "markdown",
      "source": [
        "**Model Building & calculating confusion matrix:**"
      ],
      "metadata": {
        "id": "agmypFRWD-sO"
      }
    },
    {
      "cell_type": "code",
      "source": [
        "clf = svm.SVC(kernel = 'linear', random_state = 0)\n",
        "clf.fit(X_train,Y_train)\n",
        "\n",
        "Y_pred = clf.predict(X_test)\n",
        "\n",
        "cm = confusion_matrix(Y_test, Y_pred)\n",
        "\n",
        "print(\"Confusion Matrix = \\n\",cm)"
      ],
      "metadata": {
        "colab": {
          "base_uri": "https://localhost:8080/"
        },
        "id": "W5s-21h2EEKO",
        "outputId": "08d8b63c-ca5b-4881-fc96-0c2000cf591c"
      },
      "execution_count": null,
      "outputs": [
        {
          "output_type": "stream",
          "name": "stdout",
          "text": [
            "Confusion Matrix = \n",
            " [[897  10]\n",
            " [ 39  54]]\n"
          ]
        }
      ]
    },
    {
      "cell_type": "markdown",
      "source": [
        "**Calculating MSE:**"
      ],
      "metadata": {
        "id": "ARMYak3uJrAv"
      }
    },
    {
      "cell_type": "code",
      "source": [
        "print(\"Mean Square Error = \",metrics.mean_squared_error(Y_test, Y_pred))"
      ],
      "metadata": {
        "colab": {
          "base_uri": "https://localhost:8080/"
        },
        "id": "ejyKxR7AELDe",
        "outputId": "ffafdf34-9d79-4cef-bf9b-1954fa19b959"
      },
      "execution_count": null,
      "outputs": [
        {
          "output_type": "stream",
          "name": "stdout",
          "text": [
            "Mean Square Error =  0.049\n"
          ]
        }
      ]
    }
  ]
}